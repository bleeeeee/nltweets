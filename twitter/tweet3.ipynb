{
 "cells": [
  {
   "cell_type": "code",
   "execution_count": 1,
   "metadata": {},
   "outputs": [],
   "source": [
    "#!/usr/bin/python\n",
    "# -*- coding: utf-8 -*-\n",
    "\n",
    "import tweepy\n",
    "import csv\n",
    "import json"
   ]
  },
  {
   "cell_type": "code",
   "execution_count": 2,
   "metadata": {},
   "outputs": [],
   "source": [
    "# Twitter API credentials\n",
    "\n",
    "with open('twitter_credentials.json') as cred_data:\n",
    "    info = json.load(cred_data)\n",
    "    consumer_key = info['CONSUMER_KEY']\n",
    "    consumer_secret = info['CONSUMER_SECRET']\n",
    "    access_key = info['ACCESS_KEY']\n",
    "    access_secret = info['ACCESS_SECRET']\n",
    "\n",
    "# Create the api endpoint\n",
    "\n",
    "auth = tweepy.OAuthHandler(consumer_key, consumer_secret)\n",
    "api = tweepy.API(auth)"
   ]
  },
  {
   "cell_type": "code",
   "execution_count": 9,
   "metadata": {},
   "outputs": [
    {
     "name": "stdout",
     "output_type": "stream",
     "text": [
      "Enter the number of tweets that you want to extract- 50\n",
      "Enter the mention you want to scrape- sfmta_muni\n",
      "Extracted 50 tweets with mention @sfmta_muni\n"
     ]
    }
   ],
   "source": [
    "# Specify the maximum number of tweets that you want to be extracted.\n",
    "\n",
    "maximum_number_of_tweets_to_be_extracted = \\\n",
    "    int(input('Enter the number of tweets that you want to extract- '))\n",
    "\n",
    "# Mention the mention that you want to look out for\n",
    "\n",
    "mention = input('Enter the mention you want to scrape- ')\n",
    "\n",
    "for tweet_info in tweepy.Cursor(api.search, q='@' + mention,\n",
    "                           tweet_mode='extended').items(maximum_number_of_tweets_to_be_extracted):\n",
    "    if 'retweeted_status' in dir(tweet_info):\n",
    "        tweet=tweet_info.retweeted_status.full_text\n",
    "    else:\n",
    "        tweet=tweet_info.full_text\n",
    "        \n",
    "    if 'media' in tweet_info.entities:\n",
    "        for image in tweet_info.entities['media']:\n",
    "            tweet = '{0}  {1}'.format(tweet, image['media_url'])\n",
    "   \n",
    "    with open('tweets_with_mention_' + mention + '.txt', 'a') as \\\n",
    "        the_file:\n",
    "        the_file.write(str(tweet.encode('utf-8')) + '\\n')\n",
    "\n",
    "print ('Extracted ' + str(maximum_number_of_tweets_to_be_extracted) \\\n",
    "    + ' tweets with mention @' + mention)"
   ]
  },
  {
   "cell_type": "code",
   "execution_count": null,
   "metadata": {},
   "outputs": [],
   "source": [
    "\n"
   ]
  }
 ],
 "metadata": {
  "kernelspec": {
   "display_name": "Python 3",
   "language": "python",
   "name": "python3"
  },
  "language_info": {
   "codemirror_mode": {
    "name": "ipython",
    "version": 3
   },
   "file_extension": ".py",
   "mimetype": "text/x-python",
   "name": "python",
   "nbconvert_exporter": "python",
   "pygments_lexer": "ipython3",
   "version": "3.6.0"
  }
 },
 "nbformat": 4,
 "nbformat_minor": 2
}
